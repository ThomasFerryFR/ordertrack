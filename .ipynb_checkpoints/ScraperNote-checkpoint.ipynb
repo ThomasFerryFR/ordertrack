{
 "cells": [
  {
   "cell_type": "code",
   "execution_count": 8,
   "metadata": {},
   "outputs": [
    {
     "name": "stdout",
     "output_type": "stream",
     "text": [
      "It is taking a long time to request\n",
      "[<span class=\"ETA-block\">Current ETA at final place of delivery <br/>\n",
      "                01 Jun 2018, 08:00\n",
      "                </span>]\n"
     ]
    },
    {
     "ename": "ValueError",
     "evalue": "Tag.index: element not in tag",
     "output_type": "error",
     "traceback": [
      "\u001b[1;31m---------------------------------------------------------------------------\u001b[0m",
      "\u001b[1;31mValueError\u001b[0m                                Traceback (most recent call last)",
      "\u001b[1;32m<ipython-input-8-44fdcac920a5>\u001b[0m in \u001b[0;36m<module>\u001b[1;34m()\u001b[0m\n\u001b[0;32m     37\u001b[0m     \u001b[1;32mreturn\u001b[0m \u001b[1;33m{\u001b[0m\u001b[1;34m\"status\"\u001b[0m\u001b[1;33m:\u001b[0m\u001b[0mclean_status\u001b[0m\u001b[1;33m}\u001b[0m\u001b[1;33m\u001b[0m\u001b[0m\n\u001b[0;32m     38\u001b[0m \u001b[1;33m\u001b[0m\u001b[0m\n\u001b[1;32m---> 39\u001b[1;33m \u001b[0mtest_container\u001b[0m \u001b[1;33m=\u001b[0m \u001b[0mextract_status\u001b[0m\u001b[1;33m(\u001b[0m\u001b[1;34m'MAEU8358826'\u001b[0m\u001b[1;33m)\u001b[0m\u001b[1;33m\u001b[0m\u001b[0m\n\u001b[0m",
      "\u001b[1;32m<ipython-input-8-44fdcac920a5>\u001b[0m in \u001b[0;36mextract_status\u001b[1;34m(containerNum)\u001b[0m\n\u001b[0;32m     33\u001b[0m     \u001b[1;31m# Cleaning the report adresses\u001b[0m\u001b[1;33m\u001b[0m\u001b[1;33m\u001b[0m\u001b[0m\n\u001b[0;32m     34\u001b[0m     \u001b[1;31m# -------------------------------------------\u001b[0m\u001b[1;33m\u001b[0m\u001b[1;33m\u001b[0m\u001b[0m\n\u001b[1;32m---> 35\u001b[1;33m     \u001b[0mclean_status\u001b[0m \u001b[1;33m=\u001b[0m \u001b[0mspan_tag\u001b[0m\u001b[1;33m[\u001b[0m\u001b[1;36m0\u001b[0m\u001b[1;33m]\u001b[0m\u001b[1;33m[\u001b[0m\u001b[0mspan_tag\u001b[0m\u001b[1;33m[\u001b[0m\u001b[1;36m0\u001b[0m\u001b[1;33m]\u001b[0m\u001b[1;33m.\u001b[0m\u001b[0mindex\u001b[0m\u001b[1;33m(\u001b[0m\u001b[1;34m'>'\u001b[0m\u001b[1;33m)\u001b[0m\u001b[1;33m:\u001b[0m\u001b[1;33m]\u001b[0m\u001b[1;33m\u001b[0m\u001b[0m\n\u001b[0m\u001b[0;32m     36\u001b[0m \u001b[1;33m\u001b[0m\u001b[0m\n\u001b[0;32m     37\u001b[0m     \u001b[1;32mreturn\u001b[0m \u001b[1;33m{\u001b[0m\u001b[1;34m\"status\"\u001b[0m\u001b[1;33m:\u001b[0m\u001b[0mclean_status\u001b[0m\u001b[1;33m}\u001b[0m\u001b[1;33m\u001b[0m\u001b[0m\n",
      "\u001b[1;32mC:\\Users\\Thomas\\Anaconda3\\lib\\site-packages\\bs4\\element.py\u001b[0m in \u001b[0;36mindex\u001b[1;34m(self, element)\u001b[0m\n\u001b[0;32m    985\u001b[0m             \u001b[1;32mif\u001b[0m \u001b[0mchild\u001b[0m \u001b[1;32mis\u001b[0m \u001b[0melement\u001b[0m\u001b[1;33m:\u001b[0m\u001b[1;33m\u001b[0m\u001b[0m\n\u001b[0;32m    986\u001b[0m                 \u001b[1;32mreturn\u001b[0m \u001b[0mi\u001b[0m\u001b[1;33m\u001b[0m\u001b[0m\n\u001b[1;32m--> 987\u001b[1;33m         \u001b[1;32mraise\u001b[0m \u001b[0mValueError\u001b[0m\u001b[1;33m(\u001b[0m\u001b[1;34m\"Tag.index: element not in tag\"\u001b[0m\u001b[1;33m)\u001b[0m\u001b[1;33m\u001b[0m\u001b[0m\n\u001b[0m\u001b[0;32m    988\u001b[0m \u001b[1;33m\u001b[0m\u001b[0m\n\u001b[0;32m    989\u001b[0m     \u001b[1;32mdef\u001b[0m \u001b[0mget\u001b[0m\u001b[1;33m(\u001b[0m\u001b[0mself\u001b[0m\u001b[1;33m,\u001b[0m \u001b[0mkey\u001b[0m\u001b[1;33m,\u001b[0m \u001b[0mdefault\u001b[0m\u001b[1;33m=\u001b[0m\u001b[1;32mNone\u001b[0m\u001b[1;33m)\u001b[0m\u001b[1;33m:\u001b[0m\u001b[1;33m\u001b[0m\u001b[0m\n",
      "\u001b[1;31mValueError\u001b[0m: Tag.index: element not in tag"
     ]
    }
   ],
   "source": [
    "import pandas as pd\n",
    "from bs4 import BeautifulSoup as BS\n",
    "import requests\n",
    "import selenium\n",
    "from selenium import webdriver\n",
    "\n",
    "# MAEU8358826\n",
    "\n",
    "\n",
    "def extract_status(containerNum):\n",
    "    \"\"\"Lorem Ipsum\"\"\"\n",
    "    url = \"https://my.maerskline.com/tracking/search?keyType=UNKNOWN_TYPE&searchNumber={}\".format(containerNum)\n",
    "    headers = {'User-Agent': 'Mozilla/5.0 (Macintosh; Intel Mac OS X 10_11_6) AppleWebKit/537.36 (KHTML, like Gecko) Chrome/61.0.3163.100 Safari/537.36'}\n",
    "    #The line above is to get around webscraping prevention some websites might have in place.\n",
    "    \n",
    "    print('Requesting...')\n",
    "    \n",
    "    browser = webdriver.Firefox()\n",
    "    browser.get(url) \n",
    "    innerHTML = browser.execute_script(\"return document.body.innerHTML\")\n",
    "    \n",
    "    parser = BS(innerHTML, 'html.parser')\n",
    "\n",
    "    # -------------------------------------------\n",
    "    # Extracting the status\n",
    "    # -------------------------------------------\n",
    "    finalEta = list()\n",
    "    span_tag = parser.findAll('span', attrs={\"class\":\"ETA-block\"})\n",
    "    \n",
    "    print(span_tag)\n",
    "    \n",
    "    # -------------------------------------------\n",
    "    # Cleaning the report adresses\n",
    "    # -------------------------------------------\n",
    "    clean_status = span_tag[0][0]\n",
    "\n",
    "    return {\"status\":clean_status}\n",
    "\n",
    "test_container = extract_status('MAEU8358826')\n"
   ]
  },
  {
   "cell_type": "code",
   "execution_count": 6,
   "metadata": {},
   "outputs": [
    {
     "data": {
      "text/plain": [
       "{'status': <span class=\"ETA-block\">Current ETA at final place of delivery <br/>\n",
       "                 01 Jun 2018, 08:00\n",
       "                 </span>}"
      ]
     },
     "execution_count": 6,
     "metadata": {},
     "output_type": "execute_result"
    }
   ],
   "source": [
    "test_container"
   ]
  },
  {
   "cell_type": "code",
   "execution_count": null,
   "metadata": {
    "collapsed": true
   },
   "outputs": [],
   "source": []
  }
 ],
 "metadata": {
  "kernelspec": {
   "display_name": "Python 3",
   "language": "python",
   "name": "python3"
  },
  "language_info": {
   "codemirror_mode": {
    "name": "ipython",
    "version": 3
   },
   "file_extension": ".py",
   "mimetype": "text/x-python",
   "name": "python",
   "nbconvert_exporter": "python",
   "pygments_lexer": "ipython3",
   "version": "3.6.1"
  }
 },
 "nbformat": 4,
 "nbformat_minor": 2
}
