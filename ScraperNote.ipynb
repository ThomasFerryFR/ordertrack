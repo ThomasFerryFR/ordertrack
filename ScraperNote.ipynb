{
 "cells": [
  {
   "cell_type": "code",
   "execution_count": 29,
   "metadata": {},
   "outputs": [
    {
     "name": "stdout",
     "output_type": "stream",
     "text": [
      "Requesting...\n",
      "[<span class=\"ETA-block\">Current ETA at final place of delivery <br/>\n",
      "                01 Jun 2018, 08:00\n",
      "                </span>]\n"
     ]
    }
   ],
   "source": [
    "import pandas as pd\n",
    "from bs4 import BeautifulSoup as BS\n",
    "import requests\n",
    "import selenium\n",
    "from selenium import webdriver\n",
    "\n",
    "# MAEU8358826\n",
    "\n",
    "\n",
    "def extract_status(containerNum):\n",
    "    \"\"\"Lorem Ipsum\"\"\"\n",
    "    url = \"https://my.maerskline.com/tracking/search?keyType=UNKNOWN_TYPE&searchNumber={}\".format(containerNum)\n",
    "    headers = {'User-Agent': 'Mozilla/5.0 (Macintosh; Intel Mac OS X 10_11_6) AppleWebKit/537.36 (KHTML, like Gecko) Chrome/61.0.3163.100 Safari/537.36'}\n",
    "    #The line above is to get around webscraping prevention some websites might have in place.\n",
    "    \n",
    "    print('Requesting...')\n",
    "    \n",
    "    browser = webdriver.Firefox()\n",
    "    browser.get(url) \n",
    "    innerHTML = browser.execute_script(\"return document.body.innerHTML\")\n",
    "    browser.stop_client()\n",
    "    browser.close()\n",
    "    \n",
    "    parser = BS(innerHTML, 'html.parser')\n",
    "\n",
    "    # -------------------------------------------\n",
    "    # Extracting the status\n",
    "    # -------------------------------------------\n",
    "    finalEta = list()\n",
    "    span_tag = parser.findAll('span', attrs={\"class\":\"ETA-block\"})\n",
    "    \n",
    "    print(span_tag)\n",
    "    \n",
    "    # -------------------------------------------\n",
    "    # Cleaning the report adresses\n",
    "    # -------------------------------------------\n",
    "    status = span_tag[0].text\n",
    "    tagLine, dateEta, trash = status.split('\\n                ',2)\n",
    "    \n",
    "    return {\"Full Status\":status,\"Estimated Arrival Date:\":dateEta}\n",
    "\n",
    "test_container = extract_status('MAEU8358826')\n"
   ]
  },
  {
   "cell_type": "code",
   "execution_count": 30,
   "metadata": {},
   "outputs": [
    {
     "data": {
      "text/plain": [
       "{'date:': '01 Jun 2018, 08:00',\n",
       " 'status': 'Current ETA at final place of delivery \\n                01 Jun 2018, 08:00\\n                '}"
      ]
     },
     "execution_count": 30,
     "metadata": {},
     "output_type": "execute_result"
    }
   ],
   "source": [
    "test_container"
   ]
  },
  {
   "cell_type": "code",
   "execution_count": null,
   "metadata": {
    "collapsed": true
   },
   "outputs": [],
   "source": []
  }
 ],
 "metadata": {
  "kernelspec": {
   "display_name": "Python 3",
   "language": "python",
   "name": "python3"
  },
  "language_info": {
   "codemirror_mode": {
    "name": "ipython",
    "version": 3
   },
   "file_extension": ".py",
   "mimetype": "text/x-python",
   "name": "python",
   "nbconvert_exporter": "python",
   "pygments_lexer": "ipython3",
   "version": "3.6.1"
  }
 },
 "nbformat": 4,
 "nbformat_minor": 2
}
